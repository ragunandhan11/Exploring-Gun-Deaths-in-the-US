{
 "cells": [
  {
   "cell_type": "code",
   "execution_count": 1,
   "metadata": {
    "collapsed": true
   },
   "outputs": [],
   "source": [
    "import csv\n",
    "fl = open(\"guns.csv\")\n",
    "data = list(csv.reader(fl))\n"
   ]
  },
  {
   "cell_type": "code",
   "execution_count": 2,
   "metadata": {
    "collapsed": false
   },
   "outputs": [
    {
     "name": "stdout",
     "output_type": "stream",
     "text": [
      "[['', 'year', 'month', 'intent', 'police', 'sex', 'age', 'race', 'hispanic', 'place', 'education'], ['1', '2012', '01', 'Suicide', '0', 'M', '34', 'Asian/Pacific Islander', '100', 'Home', '4'], ['2', '2012', '01', 'Suicide', '0', 'F', '21', 'White', '100', 'Street', '3'], ['3', '2012', '01', 'Suicide', '0', 'M', '60', 'White', '100', 'Other specified', '4'], ['4', '2012', '02', 'Suicide', '0', 'M', '64', 'White', '100', 'Home', '4']]\n"
     ]
    }
   ],
   "source": [
    "print(data[:5])"
   ]
  },
  {
   "cell_type": "code",
   "execution_count": 3,
   "metadata": {
    "collapsed": false
   },
   "outputs": [
    {
     "name": "stdout",
     "output_type": "stream",
     "text": [
      "[['1', '2012', '01', 'Suicide', '0', 'M', '34', 'Asian/Pacific Islander', '100', 'Home', '4'], ['2', '2012', '01', 'Suicide', '0', 'F', '21', 'White', '100', 'Street', '3'], ['3', '2012', '01', 'Suicide', '0', 'M', '60', 'White', '100', 'Other specified', '4'], ['4', '2012', '02', 'Suicide', '0', 'M', '64', 'White', '100', 'Home', '4'], ['5', '2012', '02', 'Suicide', '0', 'M', '31', 'White', '100', 'Other specified', '2']]\n"
     ]
    }
   ],
   "source": [
    "headers = data[0]\n",
    "data = data[1:]\n",
    "print(data[:5])"
   ]
  },
  {
   "cell_type": "code",
   "execution_count": 4,
   "metadata": {
    "collapsed": true
   },
   "outputs": [],
   "source": [
    "years = [i[1] for i in data]"
   ]
  },
  {
   "cell_type": "code",
   "execution_count": 5,
   "metadata": {
    "collapsed": false
   },
   "outputs": [
    {
     "name": "stdout",
     "output_type": "stream",
     "text": [
      "{'2014': 33599, '2013': 33636, '2012': 33563}\n"
     ]
    }
   ],
   "source": [
    "year_counts = {}\n",
    "for i in years:\n",
    "    if i in year_counts:\n",
    "        year_counts[i]+=1\n",
    "    else:\n",
    "        year_counts[i]=1\n",
    "print(year_counts)"
   ]
  },
  {
   "cell_type": "code",
   "execution_count": 6,
   "metadata": {
    "collapsed": false
   },
   "outputs": [],
   "source": [
    "import datetime\n",
    "dates = [datetime.datetime(year = int(i[1]),month = int(i[2]),day =1) for i in data]"
   ]
  },
  {
   "cell_type": "code",
   "execution_count": 7,
   "metadata": {
    "collapsed": false
   },
   "outputs": [
    {
     "data": {
      "text/plain": [
       "[datetime.datetime(2012, 1, 1, 0, 0),\n",
       " datetime.datetime(2012, 1, 1, 0, 0),\n",
       " datetime.datetime(2012, 1, 1, 0, 0),\n",
       " datetime.datetime(2012, 2, 1, 0, 0),\n",
       " datetime.datetime(2012, 2, 1, 0, 0)]"
      ]
     },
     "execution_count": 7,
     "metadata": {},
     "output_type": "execute_result"
    }
   ],
   "source": [
    "dates[:5]"
   ]
  },
  {
   "cell_type": "code",
   "execution_count": 8,
   "metadata": {
    "collapsed": false
   },
   "outputs": [
    {
     "name": "stdout",
     "output_type": "stream",
     "text": [
      "{datetime.datetime(2013, 12, 1, 0, 0): 2765, datetime.datetime(2013, 1, 1, 0, 0): 2864, datetime.datetime(2013, 3, 1, 0, 0): 2862, datetime.datetime(2014, 9, 1, 0, 0): 2914, datetime.datetime(2013, 7, 1, 0, 0): 3079, datetime.datetime(2014, 2, 1, 0, 0): 2361, datetime.datetime(2012, 2, 1, 0, 0): 2357, datetime.datetime(2014, 7, 1, 0, 0): 2884, datetime.datetime(2014, 4, 1, 0, 0): 2862, datetime.datetime(2014, 1, 1, 0, 0): 2651, datetime.datetime(2014, 5, 1, 0, 0): 2864, datetime.datetime(2013, 9, 1, 0, 0): 2742, datetime.datetime(2012, 3, 1, 0, 0): 2743, datetime.datetime(2012, 12, 1, 0, 0): 2791, datetime.datetime(2014, 12, 1, 0, 0): 2857, datetime.datetime(2014, 3, 1, 0, 0): 2684, datetime.datetime(2013, 8, 1, 0, 0): 2859, datetime.datetime(2014, 6, 1, 0, 0): 2931, datetime.datetime(2013, 6, 1, 0, 0): 2920, datetime.datetime(2012, 9, 1, 0, 0): 2852, datetime.datetime(2012, 8, 1, 0, 0): 2954, datetime.datetime(2012, 5, 1, 0, 0): 2999, datetime.datetime(2012, 10, 1, 0, 0): 2733, datetime.datetime(2013, 4, 1, 0, 0): 2798, datetime.datetime(2012, 1, 1, 0, 0): 2758, datetime.datetime(2012, 4, 1, 0, 0): 2795, datetime.datetime(2012, 6, 1, 0, 0): 2826, datetime.datetime(2013, 10, 1, 0, 0): 2808, datetime.datetime(2012, 11, 1, 0, 0): 2729, datetime.datetime(2014, 8, 1, 0, 0): 2970, datetime.datetime(2013, 5, 1, 0, 0): 2806, datetime.datetime(2014, 10, 1, 0, 0): 2865, datetime.datetime(2013, 11, 1, 0, 0): 2758, datetime.datetime(2012, 7, 1, 0, 0): 3026, datetime.datetime(2013, 2, 1, 0, 0): 2375, datetime.datetime(2014, 11, 1, 0, 0): 2756}\n"
     ]
    }
   ],
   "source": [
    "date_counts={}\n",
    "for i in dates:\n",
    "    if i in date_counts:\n",
    "        date_counts[i]+=1\n",
    "    else:\n",
    "        date_counts[i]=1\n",
    "print(date_counts)\n"
   ]
  },
  {
   "cell_type": "code",
   "execution_count": 9,
   "metadata": {
    "collapsed": false
   },
   "outputs": [
    {
     "name": "stdout",
     "output_type": "stream",
     "text": [
      "{'Hispanic': 9022, 'Black': 23296, 'Native American/Native Alaskan': 917, 'White': 66237, 'Asian/Pacific Islander': 1326}\n",
      "{'F': 14449, 'M': 86349}\n"
     ]
    }
   ],
   "source": [
    "sex_counts={}\n",
    "race_counts={}\n",
    "for i in data:\n",
    "    if i[5] in sex_counts:\n",
    "        sex_counts[i[5]]+=1\n",
    "    else:\n",
    "        sex_counts[i[5]]=1\n",
    "    if i[7] in race_counts:\n",
    "        race_counts[i[7]]+=1\n",
    "    else:\n",
    "        race_counts[i[7]]=1\n",
    "        \n",
    "print(race_counts)\n",
    "print(sex_counts)"
   ]
  },
  {
   "cell_type": "code",
   "execution_count": 10,
   "metadata": {
    "collapsed": false
   },
   "outputs": [
    {
     "name": "stdout",
     "output_type": "stream",
     "text": [
      "[['Id', 'Year', 'Id', 'Sex', 'Id', 'Hispanic Origin', 'Id', 'Id2', 'Geography', 'Total', 'Race Alone - White', 'Race Alone - Hispanic', 'Race Alone - Black or African American', 'Race Alone - American Indian and Alaska Native', 'Race Alone - Asian', 'Race Alone - Native Hawaiian and Other Pacific Islander', 'Two or More Races'], ['cen42010', 'April 1, 2010 Census', 'totsex', 'Both Sexes', 'tothisp', 'Total', '0100000US', '', 'United States', '308745538', '197318956', '44618105', '40250635', '3739506', '15159516', '674625', '6984195']]\n"
     ]
    }
   ],
   "source": [
    "cf = open(\"census.csv\",\"r\")\n",
    "census = list(csv.reader(cf))\n",
    "print(census)"
   ]
  },
  {
   "cell_type": "markdown",
   "metadata": {},
   "source": [
    "Asian/Pacific Islander -- Race Alone - Asian plus Race Alone - Native Hawaiian and Other Pacific Islander.\n",
    "\n",
    "Black -- Race Alone - Black or African American.\n",
    "\n",
    "Hispanic -- Race Alone - Hispanic\n",
    "\n",
    "Native American/Native Alaskan -- Race Alone - American Indian and Alaska Native\n",
    "\n",
    "White -- Race Alone - White"
   ]
  },
  {
   "cell_type": "code",
   "execution_count": 11,
   "metadata": {
    "collapsed": false
   },
   "outputs": [
    {
     "name": "stdout",
     "output_type": "stream",
     "text": [
      "{'Hispanic': 3739506, 'Asian/Pacific Islander': 15159516674625, 'White': 197318956, 'Native American/Native Alaskan': 15159516, 'Black': 40250635}\n"
     ]
    }
   ],
   "source": [
    "cendata = census[1:]\n",
    "asianpi = cendata[0][14]+cendata[0][15]\n",
    "black = cendata[0][12]\n",
    "hispanic = cendata[0][13]\n",
    "alaskan = cendata[0][14]\n",
    "white = cendata[0][10]\n",
    "mapping ={'Hispanic': int(hispanic), 'Black': int(black), 'Native American/Native Alaskan': int(alaskan), \n",
    " 'White': int(white), 'Asian/Pacific Islander': int(asianpi)}\n",
    "print(mapping)"
   ]
  },
  {
   "cell_type": "code",
   "execution_count": 12,
   "metadata": {
    "collapsed": false
   },
   "outputs": [],
   "source": [
    "race_per_hundredk = {}\n",
    "for i in race_counts:\n",
    "    race_per_hundredk[i]=(race_counts[i]/mapping[i])*100000"
   ]
  },
  {
   "cell_type": "code",
   "execution_count": 13,
   "metadata": {
    "collapsed": false
   },
   "outputs": [
    {
     "name": "stdout",
     "output_type": "stream",
     "text": [
      "{'Hispanic': 241.26181372619806, 'Asian/Pacific Islander': 8.746980714890115e-06, 'White': 33.56849303419181, 'Native American/Native Alaskan': 6.049005786200562, 'Black': 57.8773477735196}\n"
     ]
    }
   ],
   "source": [
    "print(race_per_hundredk)"
   ]
  },
  {
   "cell_type": "code",
   "execution_count": 14,
   "metadata": {
    "collapsed": true
   },
   "outputs": [],
   "source": [
    "intents = [i[3] for i in data]\n",
    "races = [i[7] for i in data]\n",
    "homicide_race_counts={}\n",
    "\n"
   ]
  },
  {
   "cell_type": "code",
   "execution_count": 16,
   "metadata": {
    "collapsed": false
   },
   "outputs": [],
   "source": [
    "for i,race in enumerate(races):\n",
    "    if intents[i] == \"Homicide\":\n",
    "        if race in homicide_race_counts:\n",
    "            homicide_race_counts[race]+=1\n",
    "        else:\n",
    "            homicide_race_counts[race]=1\n",
    "    "
   ]
  },
  {
   "cell_type": "code",
   "execution_count": 17,
   "metadata": {
    "collapsed": false
   },
   "outputs": [
    {
     "data": {
      "text/plain": [
       "{'Asian/Pacific Islander': 559,\n",
       " 'Black': 19510,\n",
       " 'Hispanic': 5634,\n",
       " 'Native American/Native Alaskan': 326,\n",
       " 'White': 9147}"
      ]
     },
     "execution_count": 17,
     "metadata": {},
     "output_type": "execute_result"
    }
   ],
   "source": [
    "homicide_race_counts"
   ]
  },
  {
   "cell_type": "code",
   "execution_count": 18,
   "metadata": {
    "collapsed": true
   },
   "outputs": [],
   "source": [
    "for i in race_counts:\n",
    "    homicide_race_counts[i]=(homicide_race_counts[i]/mapping[i])*100000"
   ]
  },
  {
   "cell_type": "code",
   "execution_count": 19,
   "metadata": {
    "collapsed": false
   },
   "outputs": [
    {
     "name": "stdout",
     "output_type": "stream",
     "text": [
      "{'Hispanic': 150.66161145349145, 'Black': 48.471284987180944, 'Native American/Native Alaskan': 2.1504644343526533, 'White': 4.6356417981453335, 'Asian/Pacific Islander': 3.687452654316421e-06}\n"
     ]
    }
   ],
   "source": [
    "print(homicide_race_counts)"
   ]
  },
  {
   "cell_type": "markdown",
   "metadata": {},
   "source": [
    "Figure out the link, if any, between month and homicide rate.\n",
    "\n",
    "Explore the homicide rate by gender.\n",
    "\n",
    "Explore the rates of other intents, like Accidental, by gender and race.\n",
    "\n",
    "Find out if gun death rates correlate to location and education."
   ]
  },
  {
   "cell_type": "code",
   "execution_count": null,
   "metadata": {
    "collapsed": true
   },
   "outputs": [],
   "source": []
  }
 ],
 "metadata": {
  "kernelspec": {
   "display_name": "Python 3",
   "language": "python",
   "name": "python3"
  },
  "language_info": {
   "codemirror_mode": {
    "name": "ipython",
    "version": 3
   },
   "file_extension": ".py",
   "mimetype": "text/x-python",
   "name": "python",
   "nbconvert_exporter": "python",
   "pygments_lexer": "ipython3",
   "version": "3.4.3"
  }
 },
 "nbformat": 4,
 "nbformat_minor": 0
}
